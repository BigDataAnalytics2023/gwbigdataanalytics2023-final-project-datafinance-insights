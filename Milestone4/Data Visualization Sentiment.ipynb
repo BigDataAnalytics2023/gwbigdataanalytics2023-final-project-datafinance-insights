{
 "cells": [
  {
   "cell_type": "code",
   "execution_count": 7,
   "id": "2d4f1c6a",
   "metadata": {},
   "outputs": [
    {
     "name": "stdout",
     "output_type": "stream",
     "text": [
      "        date stock  sentiment\n",
      "0 2023-12-14  AAPL   0.136018\n",
      "1 2023-12-14  AMZN   0.159763\n",
      "2 2023-12-14  GOOG   0.105519\n",
      "3 2023-12-14   IBM   0.079879\n",
      "4 2023-12-14  INTC   0.179523\n",
      "5 2023-12-14  MSFT   0.109018\n",
      "6 2023-12-14  TSLA   0.088962\n",
      "7 2023-12-14     V   0.182790\n"
     ]
    }
   ],
   "source": [
    "from google.cloud import bigquery\n",
    "from google.oauth2 import service_account\n",
    "import matplotlib.pyplot as plt\n",
    "import pandas as pd\n",
    "import matplotlib.dates as mdates\n",
    "\n",
    "credentials = service_account.Credentials.from_service_account_file(\n",
    "'data-finance-final-92d8049c252f.json')\n",
    "\n",
    "project_id = 'data-finance-final'\n",
    "client = bigquery.Client(credentials= credentials,project=project_id)\n",
    "\n",
    "sql = \"SELECT * FROM `data-finance-final.stockMetaData.stock_sentiments_cleaned`\"\n",
    "\n",
    "# Re-run the query\n",
    "query_job = client.query(sql)\n",
    "results = query_job.result()\n",
    "\n",
    "# Convert results to a list\n",
    "results_list = list(results)\n",
    "\n",
    "# Convert the list of tuples to a list of lists\n",
    "data_list = [list(row) for row in results_list]\n",
    "\n",
    "# Convert the list of lists to a DataFrame with column names\n",
    "column_names = ['date', 'stock', 'sentiment']\n",
    "df = pd.DataFrame(data_list, columns=column_names)\n",
    "\n",
    "#specify which stock you want\n",
    "#stock = 'AAPL'\n",
    "#df = df[df['stock'] == 'AAPL']\n",
    "df['date'] = pd.to_datetime(df['date'])\n",
    "\n",
    "# Sort the DataFrame by 'date'\n",
    "df = df.sort_values(by='date')\n",
    "\n",
    "print(df)"
   ]
  }
 ],
 "metadata": {
  "kernelspec": {
   "display_name": "Python 3 (ipykernel)",
   "language": "python",
   "name": "python3"
  },
  "language_info": {
   "codemirror_mode": {
    "name": "ipython",
    "version": 3
   },
   "file_extension": ".py",
   "mimetype": "text/x-python",
   "name": "python",
   "nbconvert_exporter": "python",
   "pygments_lexer": "ipython3",
   "version": "3.10.11"
  }
 },
 "nbformat": 4,
 "nbformat_minor": 5
}
